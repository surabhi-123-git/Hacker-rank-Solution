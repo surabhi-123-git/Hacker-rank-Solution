{
 "cells": [
  {
   "cell_type": "markdown",
   "id": "9d8fb379-39d4-472a-8cd1-033cb01afc36",
   "metadata": {},
   "source": [
    "## [1] Calculate the hourglass sum for every hourglass in A , then print the maximum hourglass sum."
   ]
  },
  {
   "cell_type": "code",
   "execution_count": 4,
   "id": "f0890186-6842-4371-b0fe-6b5f31b9d81d",
   "metadata": {},
   "outputs": [
    {
     "data": {
      "text/plain": [
       "\"Context: Given a 6X6 2D Array,A :\\n1 1 1 0 0 0\\n0 1 0 0 0 0\\n1 1 1 0 0 0\\n0 0 0 0 0 0\\n0 0 0 0 0 0\\n0 0 0 0 0 0\\n### We define an hourglass in A to be a subset of values with indices falling in this pattern in A's graphical representation:\\n### a b c\\n###   d\\n### e f g\\n### There are 16 hourglasses in A , and an hourglass sum is the sum of an hourglass' values.\""
      ]
     },
     "execution_count": 4,
     "metadata": {},
     "output_type": "execute_result"
    }
   ],
   "source": [
    "'''Context: Given a 6X6 2D Array,A :\n",
    "1 1 1 0 0 0\n",
    "0 1 0 0 0 0\n",
    "1 1 1 0 0 0\n",
    "0 0 0 0 0 0\n",
    "0 0 0 0 0 0\n",
    "0 0 0 0 0 0\n",
    "### We define an hourglass in A to be a subset of values with indices falling in this pattern in A's graphical representation:\n",
    "### a b c\n",
    "###   d\n",
    "### e f g\n",
    "### There are 16 hourglasses in A , and an hourglass sum is the sum of an hourglass' values.'''"
   ]
  },
  {
   "cell_type": "code",
   "execution_count": 3,
   "id": "db6bae9a-af08-4eb2-840e-d648846faf28",
   "metadata": {},
   "outputs": [
    {
     "name": "stdin",
     "output_type": "stream",
     "text": [
      "  1 1 1 0 0 0\n",
      " 0 1 0 0 0 0  \n",
      " 1 1 1 0 0 0  \n",
      " 0 0 2 2 2 0  \n",
      " 0 0 0 2 0 0 \n",
      " 0 0 2 4 5 0\n"
     ]
    },
    {
     "name": "stdout",
     "output_type": "stream",
     "text": [
      "19\n"
     ]
    }
   ],
   "source": [
    "# Input: 6x6 2D array\n",
    "arr = []\n",
    "for _ in range(6):\n",
    "    arr.append(list(map(int, input().rstrip().split())))\n",
    "\n",
    "# Initialize the maximum hourglass sum to a very small number\n",
    "max_sum = float('-inf')\n",
    "\n",
    "# Loop through each possible top-left corner of an hourglass\n",
    "for i in range(4):\n",
    "    for j in range(4):\n",
    "        # Calculate the sum of the current hourglass\n",
    "        current_sum = (\n",
    "            arr[i][j] + arr[i][j + 1] + arr[i][j + 2] +\n",
    "            arr[i + 1][j + 1] +\n",
    "            arr[i + 2][j] + arr[i + 2][j + 1] + arr[i + 2][j + 2]\n",
    "        )\n",
    "        # Update max_sum if current_sum is greater\n",
    "        if current_sum > max_sum:\n",
    "            max_sum = current_sum\n",
    "\n",
    "# Print the maximum hourglass sum\n",
    "print(max_sum)\n"
   ]
  },
  {
   "cell_type": "markdown",
   "id": "ddfda2c1-445d-4cce-9ead-368efbd354b8",
   "metadata": {},
   "source": [
    "## [2]"
   ]
  },
  {
   "cell_type": "code",
   "execution_count": 6,
   "id": "05e47fc3-dbd4-409d-be07-e65107ad7f02",
   "metadata": {},
   "outputs": [
    {
     "data": {
      "text/plain": [
       "\"You are given two classes, Person and Student, where Person is the base class and Student is the derived class. \\nCompleted code for Person and a declaration for Student are provided for you in the editor. \\nObserve that Student inherits all the properties of Person.\\n\\nComplete the Student class by writing the following:\\nA Student class constructor, which has  parameters:\\nA string,firstName.\\nA string,lastName.\\nAn integer,idNumber .\\nAn integer array (or vector) of test scores, scores.\\nA char calculate() method that calculates a Student object's average and returns the grade character representative of their calculated average:\\nGrading.png\\n\\nInput Format:\\nThe locked stub code in the editor reads the input and calls the Student class constructor with the necessary arguments. \\nIt also calls the calculate method which takes no arguments.\\nThe first line contains firstName, lastName and idNumber separated by a space. \\nThe second line contains the number of test scores. The third line of space-separated integers describes scores .\""
      ]
     },
     "execution_count": 6,
     "metadata": {},
     "output_type": "execute_result"
    }
   ],
   "source": [
    "'''You are given two classes, Person and Student, where Person is the base class and Student is the derived class. \n",
    "Completed code for Person and a declaration for Student are provided for you in the editor. \n",
    "Observe that Student inherits all the properties of Person.\n",
    "\n",
    "Complete the Student class by writing the following:\n",
    "A Student class constructor, which has  parameters:\n",
    "A string,firstName.\n",
    "A string,lastName.\n",
    "An integer,idNumber .\n",
    "An integer array (or vector) of test scores, scores.\n",
    "A char calculate() method that calculates a Student object's average and returns the grade character representative of their calculated average:\n",
    "Grading.png\n",
    "\n",
    "Input Format:\n",
    "The locked stub code in the editor reads the input and calls the Student class constructor with the necessary arguments. \n",
    "It also calls the calculate method which takes no arguments.\n",
    "The first line contains firstName, lastName and idNumber separated by a space. \n",
    "The second line contains the number of test scores. The third line of space-separated integers describes scores .'''"
   ]
  },
  {
   "cell_type": "code",
   "execution_count": 9,
   "id": "7aa599b2-2cc5-4340-98ac-583afb3e1efc",
   "metadata": {},
   "outputs": [
    {
     "name": "stdin",
     "output_type": "stream",
     "text": [
      " Heraldo Memelli 8135627 \n",
      " 2 \n",
      " 100 80\n"
     ]
    },
    {
     "name": "stdout",
     "output_type": "stream",
     "text": [
      "Name: Memelli, Heraldo\n",
      "ID: 8135627\n",
      "Grade: O\n"
     ]
    }
   ],
   "source": [
    "class Person:\n",
    "\tdef __init__(self, firstName, lastName, idNumber):\n",
    "\t\tself.firstName = firstName\n",
    "\t\tself.lastName = lastName\n",
    "\t\tself.idNumber = idNumber\n",
    "\tdef printPerson(self):\n",
    "\t\tprint(\"Name:\", self.lastName + \",\", self.firstName)\n",
    "\t\tprint(\"ID:\", self.idNumber)\n",
    "\n",
    "class Student(Person):\n",
    "    def __init__(self, firstname, lastname, idNum, scores):\n",
    "        super().__init__(firstName, lastName, idNum)\n",
    "        self.scores = scores\n",
    "        \n",
    "    #   Class Constructor\n",
    "    #   Parameters:\n",
    "    #   firstName - A string denoting the Person's first name.\n",
    "    #   lastName - A string denoting the Person's last name.\n",
    "    #   id - An integer denoting the Person's ID number.\n",
    "    #   scores - An array of integers denoting the Person's test scores.\n",
    "    \n",
    "    #   Function Name: calculate\n",
    "    #   Return: A character denoting the grade.\n",
    "    #   Write your function here\n",
    "    def calculate(self):\n",
    "        average = sum(self.scores) / len(self.scores)\n",
    "        if 90 <= average <= 100:\n",
    "            return 'O'\n",
    "        elif 80 <= average < 90:\n",
    "            return 'E'\n",
    "        elif 70 <= average < 80:\n",
    "            return 'A'\n",
    "        elif 55 <= average < 70:\n",
    "            return 'P'\n",
    "        elif 40 <= average < 55:\n",
    "            return 'D'\n",
    "        else:\n",
    "            return 'T'\n",
    "            \n",
    "line = input().split()\n",
    "firstName = line[0]\n",
    "lastName = line[1]\n",
    "idNum = line[2]\n",
    "numScores = int(input()) # not needed for Python\n",
    "scores = list( map(int, input().split()) )\n",
    "s = Student(firstName, lastName, idNum, scores)\n",
    "s.printPerson()\n",
    "print(\"Grade:\", s.calculate())"
   ]
  },
  {
   "cell_type": "code",
   "execution_count": 13,
   "id": "9135fa22-d99d-4269-9d73-e8105070c9d2",
   "metadata": {},
   "outputs": [
    {
     "name": "stdin",
     "output_type": "stream",
     "text": [
      " Heraldo Memelli 8135627\n",
      "  2 \n",
      " 100 80\n"
     ]
    },
    {
     "name": "stdout",
     "output_type": "stream",
     "text": [
      "Name: Memelli, Heraldo\n",
      "ID: 8135627\n",
      "Grade: O\n"
     ]
    }
   ],
   "source": [
    "class Person:\n",
    "\tdef __init__(self, firstName, lastName, idNumber):\n",
    "\t\tself.firstName = firstName\n",
    "\t\tself.lastName = lastName\n",
    "\t\tself.idNumber = idNumber\n",
    "\tdef printPerson(self):\n",
    "\t\tprint(\"Name:\", self.lastName + \",\", self.firstName)\n",
    "\t\tprint(\"ID:\", self.idNumber)\n",
    "\n",
    "class Student(Person):\n",
    "    def __init__(self, firstname, lastname, idNumber, scores):\n",
    "        self.firstName = firstName\n",
    "        self.lastName = lastName\n",
    "        self.idNumber = idNumber\n",
    "        self.scores = scores\n",
    "        \n",
    "    def calculate(self):\n",
    "        average = sum(self.scores) / len(self.scores)\n",
    "        if 90 <= average <= 100:\n",
    "            return 'O'\n",
    "        elif 80 <= average < 90:\n",
    "            return 'E'\n",
    "        elif 70 <= average < 80:\n",
    "            return 'A'\n",
    "        elif 55 <= average < 70:\n",
    "            return 'P'\n",
    "        elif 40 <= average < 55:\n",
    "            return 'D'\n",
    "        else:\n",
    "            return 'T'\n",
    "            \n",
    "line = input().split()\n",
    "firstName = line[0]\n",
    "lastName = line[1]\n",
    "idNum = line[2]\n",
    "numScores = int(input()) # not needed for Python\n",
    "scores = list( map(int, input().split()) )\n",
    "s = Student(firstName, lastName, idNum, scores)\n",
    "s.printPerson()\n",
    "print(\"Grade:\", s.calculate())"
   ]
  },
  {
   "cell_type": "markdown",
   "id": "6c4c9742-2f41-4757-8616-18320933e156",
   "metadata": {},
   "source": [
    "##  [3]"
   ]
  },
  {
   "cell_type": "code",
   "execution_count": 14,
   "id": "617c81e3-ee4d-46d7-a44b-7c536b0fef98",
   "metadata": {},
   "outputs": [
    {
     "data": {
      "text/plain": [
       "\"Task: Given a Book class and a Solution class, write a MyBook class that does the following:\\n*Inherits from Book\\n*Has a parameterized constructor taking these  parameters:\\nstring title \\nstring author\\nint price\\nImplements the Book class' abstract display() method so it prints these 3 lines:\\n1. Title:, a space, and then the current instance's title\\n2. Author:, a space, and then the current instance's author\\n3. Price:, a space, and then the current instance's price.\\nNote: Because these classes are being written in the same file, you must not use an access modifier (e.g.public) when declaring MyBook or your code \\nwill not execute.\\nInput Format:- \\nYou are not responsible for reading any input from stdin. The Solution class creates a Book object and calls the MyBook class constructor \\n(passing it the necessary arguments). It then calls the display method on the Book object.\""
      ]
     },
     "execution_count": 14,
     "metadata": {},
     "output_type": "execute_result"
    }
   ],
   "source": [
    "'''Task: Given a Book class and a Solution class, write a MyBook class that does the following:\n",
    "*Inherits from Book\n",
    "*Has a parameterized constructor taking these  parameters:\n",
    "string title \n",
    "string author\n",
    "int price\n",
    "Implements the Book class' abstract display() method so it prints these 3 lines:\n",
    "1. Title:, a space, and then the current instance's title\n",
    "2. Author:, a space, and then the current instance's author\n",
    "3. Price:, a space, and then the current instance's price.\n",
    "Note: Because these classes are being written in the same file, you must not use an access modifier (e.g.public) when declaring MyBook or your code \n",
    "will not execute.\n",
    "Input Format:- \n",
    "You are not responsible for reading any input from stdin. The Solution class creates a Book object and calls the MyBook class constructor \n",
    "(passing it the necessary arguments). It then calls the display method on the Book object.'''"
   ]
  },
  {
   "cell_type": "code",
   "execution_count": 15,
   "id": "f3991961-2b95-4415-800a-c7bac8d58c4d",
   "metadata": {},
   "outputs": [
    {
     "name": "stdin",
     "output_type": "stream",
     "text": [
      " The Alchemist \n",
      " Paulo Coelho \n",
      " 248\n"
     ]
    },
    {
     "name": "stdout",
     "output_type": "stream",
     "text": [
      "Title: The Alchemist \n",
      "Author: Paulo Coelho \n",
      "Price: 248\n"
     ]
    }
   ],
   "source": [
    "from abc import ABCMeta, abstractmethod\n",
    "class Book(object, metaclass=ABCMeta):\n",
    "    def __init__(self,title,author):\n",
    "        self.title=title\n",
    "        self.author=author   \n",
    "    @abstractmethod\n",
    "    def display(): pass\n",
    "\n",
    "class MyBook(object, metaclass=ABCMeta):\n",
    "    def __init__(self,title, author, price):\n",
    "        self.title=title\n",
    "        self.author=author\n",
    "        self.price = price\n",
    "        \n",
    "    def display(self):\n",
    "        print(\"Title:\", self.title)\n",
    "        print(\"Author:\", self.author)\n",
    "        print(\"Price:\", self.price)\n",
    "        \n",
    "         \n",
    "title=input()\n",
    "author=input()\n",
    "price=int(input())\n",
    "new_novel=MyBook(title,author,price)\n",
    "new_novel.display()"
   ]
  },
  {
   "cell_type": "markdown",
   "id": "e325f1b9-66f4-4cda-87bb-3ee25dafabf4",
   "metadata": {},
   "source": [
    "## [4]"
   ]
  },
  {
   "cell_type": "code",
   "execution_count": 16,
   "id": "9cebf1fe-7111-49e0-ada2-19ee0383440e",
   "metadata": {},
   "outputs": [
    {
     "data": {
      "text/plain": [
       "'The absolute difference between two integers,a and b, is written as|a-b|.The maximum absolute difference between two integers in a set of positive \\nintegers,elements, is the largest absolute difference between any two integers in __elements.\\nThe Difference class is started for you in the editor. It has a private integer array (elements) for storing N non-negative integers, \\nand a public integer (maximumDifference) for storing the maximum absolute difference.\\n\\nTask:-\\nComplete the Difference class by writing the following:\\n*A class constructor that takes an array of integers as a parameter and saves it to the __elements instance variable.\\n*A computeDifference method that finds the maximum absolute difference between any 2 numbers in __elements and stores it in the maximumDifference instance variable.'"
      ]
     },
     "execution_count": 16,
     "metadata": {},
     "output_type": "execute_result"
    }
   ],
   "source": [
    "'''The absolute difference between two integers,a and b, is written as|a-b|.The maximum absolute difference between two integers in a set of positive \n",
    "integers,elements, is the largest absolute difference between any two integers in __elements.\n",
    "The Difference class is started for you in the editor. It has a private integer array (elements) for storing N non-negative integers, \n",
    "and a public integer (maximumDifference) for storing the maximum absolute difference.\n",
    "\n",
    "Task:-\n",
    "Complete the Difference class by writing the following:\n",
    "*A class constructor that takes an array of integers as a parameter and saves it to the __elements instance variable.\n",
    "*A computeDifference method that finds the maximum absolute difference between any 2 numbers in __elements and stores it in the maximumDifference instance variable.'''"
   ]
  },
  {
   "cell_type": "code",
   "execution_count": 17,
   "id": "1638629f-c1ac-4691-bdc2-42a3fc49e133",
   "metadata": {},
   "outputs": [
    {
     "name": "stdin",
     "output_type": "stream",
     "text": [
      " 3\n",
      " 1 2 5\n"
     ]
    },
    {
     "name": "stdout",
     "output_type": "stream",
     "text": [
      "4\n"
     ]
    }
   ],
   "source": [
    "class Difference:\n",
    "    def __init__(self, a):\n",
    "        self.__elements = a\n",
    "\n",
    "    def computeDifference(self):\n",
    "        # Find the maximum and minimum values in the elements array\n",
    "        max_value = max(self.__elements)\n",
    "        min_value = min(self.__elements)\n",
    "        # Compute the maximum absolute difference\n",
    "        self.maximumDifference = abs(max_value - min_value)\n",
    "\n",
    "\n",
    "# End of Difference class\n",
    "\n",
    "_ = input() # read but ignore size of array\n",
    "a = [int(e) for e in input().split(' ')]\n",
    "\n",
    "d = Difference(a)\n",
    "d.computeDifference()\n",
    "\n",
    "print(d.maximumDifference)"
   ]
  },
  {
   "cell_type": "markdown",
   "id": "eb70c4e0-369b-4b5e-aa1e-cd33b618f9df",
   "metadata": {},
   "source": [
    "## [5]"
   ]
  },
  {
   "cell_type": "code",
   "execution_count": 18,
   "id": "a7c0f4d1-2ad4-4410-aa88-65960cd48531",
   "metadata": {},
   "outputs": [
    {
     "data": {
      "text/plain": [
       "'Task\\nRead a string, S, and print its integer value; if S cannot be converted to an integer, print Bad String.\\n\\nNote: You must use the String-to-Integer and exception handling constructs built into your submission language. \\nIf you attempt to use loops/conditional statements, you will get a 0 score.'"
      ]
     },
     "execution_count": 18,
     "metadata": {},
     "output_type": "execute_result"
    }
   ],
   "source": [
    "'''Task\n",
    "Read a string, S, and print its integer value; if S cannot be converted to an integer, print Bad String.\n",
    "\n",
    "Note: You must use the String-to-Integer and exception handling constructs built into your submission language. \n",
    "If you attempt to use loops/conditional statements, you will get a 0 score.'''"
   ]
  },
  {
   "cell_type": "code",
   "execution_count": 19,
   "id": "b35c0fe4-60b4-4ae9-9d5e-a70a9612b893",
   "metadata": {},
   "outputs": [
    {
     "name": "stdin",
     "output_type": "stream",
     "text": [
      " 3\n"
     ]
    },
    {
     "name": "stdout",
     "output_type": "stream",
     "text": [
      "3\n"
     ]
    }
   ],
   "source": [
    "if __name__ == '__main__':\n",
    "    S = input()\n",
    "    try:\n",
    "        int_value = int(S)\n",
    "        print(int_value)\n",
    "    except ValueError:\n",
    "        print(\"Bad String\")"
   ]
  },
  {
   "cell_type": "code",
   "execution_count": 20,
   "id": "9c30d096-d2f3-4547-9d7a-736decba72f8",
   "metadata": {},
   "outputs": [
    {
     "name": "stdin",
     "output_type": "stream",
     "text": [
      " ESD\n"
     ]
    },
    {
     "name": "stdout",
     "output_type": "stream",
     "text": [
      "Bad String\n"
     ]
    }
   ],
   "source": [
    "if __name__ == '__main__':\n",
    "    S = input()\n",
    "    try:\n",
    "        int_value = int(S)\n",
    "        print(int_value)\n",
    "    except ValueError:\n",
    "        print(\"Bad String\")"
   ]
  },
  {
   "cell_type": "markdown",
   "id": "95fdb037-2a8e-4b1e-9457-b5fd9efd4654",
   "metadata": {},
   "source": [
    "## [6]"
   ]
  },
  {
   "cell_type": "code",
   "execution_count": 21,
   "id": "ab68e0bc-c2bc-4a65-9560-d911b36395fb",
   "metadata": {},
   "outputs": [
    {
     "data": {
      "text/plain": [
       "'Write a Calculator class with a single method: int power(int,int). \\nThe power method takes two integers, n and p , as parameters and returns the integer result of n to the power p. \\nIf either n or p is negative, then the method must throw an exception with the message: n and p should be non-negative.'"
      ]
     },
     "execution_count": 21,
     "metadata": {},
     "output_type": "execute_result"
    }
   ],
   "source": [
    "'''Write a Calculator class with a single method: int power(int,int). \n",
    "The power method takes two integers, n and p , as parameters and returns the integer result of n to the power p. \n",
    "If either n or p is negative, then the method must throw an exception with the message: n and p should be non-negative.'''"
   ]
  },
  {
   "cell_type": "code",
   "execution_count": 24,
   "id": "8e6c6f6f-6192-42ef-b070-75252f2ce7d8",
   "metadata": {},
   "outputs": [
    {
     "name": "stdin",
     "output_type": "stream",
     "text": [
      " 3\n",
      " 2 6\n"
     ]
    },
    {
     "name": "stdout",
     "output_type": "stream",
     "text": [
      "64\n"
     ]
    },
    {
     "name": "stdin",
     "output_type": "stream",
     "text": [
      " -1 -4\n"
     ]
    },
    {
     "name": "stdout",
     "output_type": "stream",
     "text": [
      "n and p should be non-negative\n"
     ]
    },
    {
     "name": "stdin",
     "output_type": "stream",
     "text": [
      " 9 2\n"
     ]
    },
    {
     "name": "stdout",
     "output_type": "stream",
     "text": [
      "81\n"
     ]
    }
   ],
   "source": [
    "class Calculator:\n",
    "    def power(self, n, p):\n",
    "        if n < 0 or p < 0:\n",
    "            raise ValueError(\"n and p should be non-negative\")\n",
    "        return n ** p\n",
    "\n",
    "myCalculator=Calculator()\n",
    "T=int(input())\n",
    "for i in range(T):\n",
    "    n,p = map(int, input().split())\n",
    "    try:\n",
    "        ans=myCalculator.power(n,p)\n",
    "        print(ans)\n",
    "    except Exception as e:\n",
    "        print(e)   "
   ]
  },
  {
   "cell_type": "markdown",
   "id": "bad68b7b-47bf-4ee4-b60e-b77319dddd75",
   "metadata": {},
   "source": [
    "## [7] "
   ]
  },
  {
   "cell_type": "code",
   "execution_count": 1,
   "id": "bf2e320c-0704-414d-879e-cef43af8a68c",
   "metadata": {},
   "outputs": [
    {
     "data": {
      "text/plain": [
       "'Given an array, a , of size n distinct elements, sort the array in ascending order using the Bubble Sort algorithm above. Once sorted, print the following 3 lines:\\n\\n1.Array is sorted in numSwaps swaps.\\nwhere numSwaps is the number of swaps that took place.\\n2.First Element: firstElement\\nwhere firstElement is the first element in the sorted array.\\n3.Last Element: lastElement\\nwhere lastElement is the last element in the sorted array.\\nHint: To complete this challenge, you will need to add a variable that keeps a running tally of all swaps that occur during execution.'"
      ]
     },
     "execution_count": 1,
     "metadata": {},
     "output_type": "execute_result"
    }
   ],
   "source": [
    "'''Given an array, a , of size n distinct elements, sort the array in ascending order using the Bubble Sort algorithm above. Once sorted, print the following 3 lines:\n",
    "\n",
    "1.Array is sorted in numSwaps swaps.\n",
    "where numSwaps is the number of swaps that took place.\n",
    "2.First Element: firstElement\n",
    "where firstElement is the first element in the sorted array.\n",
    "3.Last Element: lastElement\n",
    "where lastElement is the last element in the sorted array.\n",
    "Hint: To complete this challenge, you will need to add a variable that keeps a running tally of all swaps that occur during execution.'''\n"
   ]
  },
  {
   "cell_type": "code",
   "execution_count": 2,
   "id": "f52c8096-d3c8-41f7-8e61-3d72330e4990",
   "metadata": {},
   "outputs": [
    {
     "name": "stdin",
     "output_type": "stream",
     "text": [
      " 3\n",
      " 1 2 3\n"
     ]
    },
    {
     "name": "stdout",
     "output_type": "stream",
     "text": [
      "Array is sorted in 0 swaps.\n",
      "First Element: 1\n",
      "Last Element: 3\n"
     ]
    }
   ],
   "source": [
    "n = int(input().strip())\n",
    "\n",
    "a = list(map(int, input().rstrip().split()))\n",
    "    \n",
    "num_swaps = 0\n",
    "for i in range(n):\n",
    "    for j in range(0, n - i - 1):\n",
    "        if a[j] > a[j + 1]:\n",
    "            a[j], a[j + 1] = a[j + 1], a[j]\n",
    "            num_swaps += 1\n",
    "print(f\"Array is sorted in {num_swaps} swaps.\")\n",
    "print(f\"First Element: {a[0]}\")\n",
    "print(f\"Last Element: {a[-1]}\") "
   ]
  },
  {
   "cell_type": "markdown",
   "id": "a1bc1000-a597-445a-add2-30f376a4bb91",
   "metadata": {},
   "source": [
    "## [8]"
   ]
  },
  {
   "cell_type": "code",
   "execution_count": 3,
   "id": "2a2e3d40-913b-44f8-bc31-8e3d8cde64e9",
   "metadata": {},
   "outputs": [
    {
     "data": {
      "text/plain": [
       "'Task\\nComplete the insert function in your editor so that it creates a new Node (pass data as the Node constructor argument) and inserts it at \\nthe tail of the linked list referenced by the head parameter. Once the new node is added, return the reference to the head node.Note: The head\\nargument is null for an empty list.\\n\\nNote: The argument is null for an empty list.'"
      ]
     },
     "execution_count": 3,
     "metadata": {},
     "output_type": "execute_result"
    }
   ],
   "source": [
    "'''Task\n",
    "Complete the insert function in your editor so that it creates a new Node (pass data as the Node constructor argument) and inserts it at \n",
    "the tail of the linked list referenced by the head parameter. Once the new node is added, return the reference to the head node.Note: The head\n",
    "argument is null for an empty list.\n",
    "\n",
    "Note: The argument is null for an empty list.'''\n"
   ]
  },
  {
   "cell_type": "code",
   "execution_count": 4,
   "id": "c9c37780-5be5-4d7e-a9a1-82d30687f4d3",
   "metadata": {},
   "outputs": [
    {
     "name": "stdin",
     "output_type": "stream",
     "text": [
      " 4\n",
      " 2\n",
      " 3\n",
      " 4\n",
      " 1\n"
     ]
    },
    {
     "name": "stdout",
     "output_type": "stream",
     "text": [
      "2 3 4 1 "
     ]
    }
   ],
   "source": [
    "class Node:\n",
    "    def __init__(self,data):\n",
    "        self.data = data\n",
    "        self.next = None \n",
    "class Solution: \n",
    "    def display(self,head):\n",
    "        current = head\n",
    "        while current:\n",
    "            print(current.data,end=' ')\n",
    "            current = current.next\n",
    "\n",
    "    def insert(self,head,data):\n",
    "        new_node = Node(data)\n",
    "        if head is None:\n",
    "            head = new_node\n",
    "        else:\n",
    "            current = head\n",
    "            while current.next is not None:\n",
    "                current = current.next\n",
    "            current.next = new_node\n",
    "        return head\n",
    "\n",
    "mylist= Solution()\n",
    "T=int(input())\n",
    "head=None\n",
    "for i in range(T):\n",
    "    data=int(input())\n",
    "    head=mylist.insert(head,data)    \n",
    "mylist.display(head); \t  "
   ]
  },
  {
   "cell_type": "markdown",
   "id": "efdca81c-33d0-4d3c-a6a7-548c96e9ea54",
   "metadata": {},
   "source": [
    "## [9]\n"
   ]
  },
  {
   "cell_type": "code",
   "execution_count": 5,
   "id": "219ac31b-3437-4735-bc0f-53e1e5126a28",
   "metadata": {},
   "outputs": [
    {
     "data": {
      "text/plain": [
       "\"A palindrome is a word, phrase, number, or other sequence of characters which reads the same backwards and forwards. \\nCan you determine if a given string,s, is a palindrome?\\nTo solve this challenge, we must first take each character in s, enqueue it in a queue, and also push that same character onto a stack. \\nOnce that's done, we must dequeue the first character from the queue and pop the top character off the stack, then compare the two characters to see \\nif they are the same; as long as the characters match, we continue dequeueing, popping, and comparing each character until our containers are empty \\n(a non-match means s isn't a palindrome).\\nWrite the following declarations and implementations:\\n\\n1.Two instance variables: one for your stack, and one for your queue .\\n2.A void pushCharacter(char ch) method that pushes a character onto a stack.\\n3.A void enqueueCharacter(char ch) method that enqueues a character in the queue instance variable.\\n4.A char popCharacter() method that pops and returns the character at the top of the stack instance variable.\\n5.A char dequeueCharacter() method that dequeues and returns the first character in the queue instance variable.\\nInput Format\\n\\nYou do not need to read anything from stdin. The locked stub code in your editor reads a single line containing string s . \\nIt then calls the methods specified above to pass each character to your instance variables.\""
      ]
     },
     "execution_count": 5,
     "metadata": {},
     "output_type": "execute_result"
    }
   ],
   "source": [
    "'''A palindrome is a word, phrase, number, or other sequence of characters which reads the same backwards and forwards. \n",
    "Can you determine if a given string,s, is a palindrome?\n",
    "To solve this challenge, we must first take each character in s, enqueue it in a queue, and also push that same character onto a stack. \n",
    "Once that's done, we must dequeue the first character from the queue and pop the top character off the stack, then compare the two characters to see \n",
    "if they are the same; as long as the characters match, we continue dequeueing, popping, and comparing each character until our containers are empty \n",
    "(a non-match means s isn't a palindrome).\n",
    "Write the following declarations and implementations:\n",
    "\n",
    "1.Two instance variables: one for your stack, and one for your queue .\n",
    "2.A void pushCharacter(char ch) method that pushes a character onto a stack.\n",
    "3.A void enqueueCharacter(char ch) method that enqueues a character in the queue instance variable.\n",
    "4.A char popCharacter() method that pops and returns the character at the top of the stack instance variable.\n",
    "5.A char dequeueCharacter() method that dequeues and returns the first character in the queue instance variable.\n",
    "Input Format\n",
    "\n",
    "You do not need to read anything from stdin. The locked stub code in your editor reads a single line containing string s . \n",
    "It then calls the methods specified above to pass each character to your instance variables.'''"
   ]
  },
  {
   "cell_type": "code",
   "execution_count": 6,
   "id": "0733511e-22cb-4d1d-a0b6-036012f235ec",
   "metadata": {},
   "outputs": [
    {
     "name": "stdin",
     "output_type": "stream",
     "text": [
      " racecar\n"
     ]
    },
    {
     "name": "stdout",
     "output_type": "stream",
     "text": [
      "The word, racecar, is a palindrome.\n"
     ]
    }
   ],
   "source": [
    "import sys\n",
    "class Solution:\n",
    "    def __init__(self):\n",
    "        self.stack = []\n",
    "        self.queue = []\n",
    "    \n",
    "    def pushCharacter(self, ch):\n",
    "        self.stack.append(ch)\n",
    "    \n",
    "    def enqueueCharacter(self, ch):\n",
    "        self.queue.append(ch)\n",
    "    \n",
    "    def popCharacter(self):\n",
    "        return self.stack.pop()\n",
    "    \n",
    "    def dequeueCharacter(self):\n",
    "        return self.queue.pop(0)\n",
    "\n",
    "# read the string s\n",
    "s=input()\n",
    "#Create the Solution class object\n",
    "obj=Solution()   \n",
    "\n",
    "l=len(s)\n",
    "# push/enqueue all the characters of string s to stack\n",
    "for i in range(l):\n",
    "    obj.pushCharacter(s[i])\n",
    "    obj.enqueueCharacter(s[i])\n",
    "    \n",
    "isPalindrome=True\n",
    "'''pop the top character from stack dequeue the first character from queue compare both the characters''' \n",
    "for i in range(l // 2):\n",
    "    if obj.popCharacter()!=obj.dequeueCharacter():\n",
    "        isPalindrome=False\n",
    "        break\n",
    "#finally print whether string s is palindrome or not.\n",
    "if isPalindrome:\n",
    "    print(\"The word, \"+s+\", is a palindrome.\")\n",
    "else:\n",
    "    print(\"The word, \"+s+\", is not a palindrome.\")    "
   ]
  },
  {
   "cell_type": "markdown",
   "id": "f3ae8bde-1d4c-4d7a-be4e-7e06562e95a3",
   "metadata": {},
   "source": [
    "## [10]"
   ]
  },
  {
   "cell_type": "code",
   "execution_count": 7,
   "id": "d0fe7cbf-6bde-4930-965c-90d2ba35c7d2",
   "metadata": {},
   "outputs": [
    {
     "data": {
      "text/plain": [
       "'Task\\nThe AdvancedArithmetic interface and the method declaration for the abstract divisorSum(n) method are provided for you in the editor below.\\nComplete the implementation of Calculator class, which implements the AdvancedArithmetic interface. \\nThe implementation for the divisorSum(n) method must return the sum of all divisors of n.'"
      ]
     },
     "execution_count": 7,
     "metadata": {},
     "output_type": "execute_result"
    }
   ],
   "source": [
    "'''Task\n",
    "The AdvancedArithmetic interface and the method declaration for the abstract divisorSum(n) method are provided for you in the editor below.\n",
    "Complete the implementation of Calculator class, which implements the AdvancedArithmetic interface. \n",
    "The implementation for the divisorSum(n) method must return the sum of all divisors of n.'''"
   ]
  },
  {
   "cell_type": "code",
   "execution_count": 8,
   "id": "430f3c29-ba75-450f-a419-22bedebe57b0",
   "metadata": {},
   "outputs": [
    {
     "name": "stdin",
     "output_type": "stream",
     "text": [
      " 6\n"
     ]
    },
    {
     "name": "stdout",
     "output_type": "stream",
     "text": [
      "I implemented: AdvancedArithmetic\n",
      "12\n"
     ]
    }
   ],
   "source": [
    "class AdvancedArithmetic(object):\n",
    "    def divisorSum(n):\n",
    "        raise NotImplementedError\n",
    "\n",
    "class Calculator(AdvancedArithmetic):\n",
    "    def divisorSum(self, n):\n",
    "        pass\n",
    "        sum_divisors = 0\n",
    "        for i in range(1,n+1):\n",
    "            if n % i == 0:\n",
    "                sum_divisors += i\n",
    "        return sum_divisors \n",
    "        \n",
    "\n",
    "\n",
    "n = int(input())\n",
    "my_calculator = Calculator()\n",
    "s = my_calculator.divisorSum(n)\n",
    "print(\"I implemented: \" + type(my_calculator).__bases__[0].__name__)\n",
    "print(s)"
   ]
  },
  {
   "cell_type": "markdown",
   "id": "f7a46af9-a5ed-451a-881d-5be56985d551",
   "metadata": {},
   "source": [
    "## [11]"
   ]
  },
  {
   "cell_type": "code",
   "execution_count": 10,
   "id": "13fe89e7-2980-4186-ad8c-42c32b0757e0",
   "metadata": {},
   "outputs": [
    {
     "data": {
      "text/plain": [
       "\"Task\\nConsider a database table, Emails, which has the attributes First Name and Email ID. Given N rows of data simulating the Emails table, print an alphabetically-ordered list of people whose email address ends in @gmail.com.\\nInput Format\\nThe first line contains an integer,N , total number of rows in the table.\\nEach of the N subsequent lines contains 2 space-separated strings denoting a person's first name and email ID, respectively.\""
      ]
     },
     "execution_count": 10,
     "metadata": {},
     "output_type": "execute_result"
    }
   ],
   "source": [
    "'''Task\n",
    "Consider a database table, Emails, which has the attributes First Name and Email ID. Given N rows of data simulating the Emails table, print an alphabetically-ordered list of people whose email address ends in @gmail.com.\n",
    "Input Format\n",
    "The first line contains an integer,N , total number of rows in the table.\n",
    "Each of the N subsequent lines contains 2 space-separated strings denoting a person's first name and email ID, respectively.'''"
   ]
  },
  {
   "cell_type": "code",
   "execution_count": 12,
   "id": "dbd3983a-e397-48e8-b6fd-56ed0acfb72a",
   "metadata": {},
   "outputs": [
    {
     "name": "stdin",
     "output_type": "stream",
     "text": [
      " 6\n",
      " riya riya@gmail.com \n",
      " julia julia@julia.me \n",
      " julia sjulia@gmail.com\n",
      " julia julia@gmail.com \n",
      " samantha samantha@gmail.com \n",
      " tanya tanya@gmail.com\n"
     ]
    },
    {
     "name": "stdout",
     "output_type": "stream",
     "text": [
      "julia\n",
      "julia\n",
      "riya\n",
      "samantha\n",
      "tanya\n"
     ]
    }
   ],
   "source": [
    "if __name__ == '__main__':\n",
    "    N = int(input().strip())\n",
    "    gmail_users = []\n",
    "    for N_itr in range(N):\n",
    "        first_multiple_input = input().rstrip().split()\n",
    "\n",
    "        firstName = first_multiple_input[0]\n",
    "\n",
    "        emailID = first_multiple_input[1]\n",
    "        \n",
    "        if emailID.endswith('@gmail.com'):\n",
    "            gmail_users.append(firstName)\n",
    "    \n",
    "    gmail_users.sort()  \n",
    "    \n",
    "    for name in gmail_users:\n",
    "        print(name) "
   ]
  },
  {
   "cell_type": "code",
   "execution_count": null,
   "id": "a34a2a24-45b0-4153-a605-7bc7091e1206",
   "metadata": {},
   "outputs": [],
   "source": []
  }
 ],
 "metadata": {
  "kernelspec": {
   "display_name": "Python 3 (ipykernel)",
   "language": "python",
   "name": "python3"
  },
  "language_info": {
   "codemirror_mode": {
    "name": "ipython",
    "version": 3
   },
   "file_extension": ".py",
   "mimetype": "text/x-python",
   "name": "python",
   "nbconvert_exporter": "python",
   "pygments_lexer": "ipython3",
   "version": "3.11.7"
  }
 },
 "nbformat": 4,
 "nbformat_minor": 5
}
